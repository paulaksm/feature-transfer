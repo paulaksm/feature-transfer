{
 "cells": [
  {
   "cell_type": "markdown",
   "metadata": {},
   "source": [
    "## All Experiments\n",
    "\n",
    "### Analysis of transferability per Depthwise Separable Convolutional block on MobileNet v1.\n",
    "\n",
    "* __base B__ - MobileNet with 3 classes trained from scratch on self-driving data.\n",
    "* __sellfer BnB__ - MobileNet with n blocks transferred and frozen from _base B_ network. All the remaining blocks are initialized randomly and trained for task B.\n",
    "* __transfer AnB__ - MobileNet with n blocks transferred and frozen from a model trained on ImageNet (task A), all the remanining blocks are random initialized and trained for task B.\n",
    "* __transfer AnB+__ - similar to _transfer AnB_, but the n transferred blocks are also trained for task B."
   ]
  },
  {
   "cell_type": "code",
   "execution_count": 1,
   "metadata": {},
   "outputs": [],
   "source": [
    "import pandas as pd\n",
    "import matplotlib.pyplot as plt\n",
    "import numpy as np"
   ]
  },
  {
   "cell_type": "code",
   "execution_count": 2,
   "metadata": {},
   "outputs": [
    {
     "data": {
      "text/html": [
       "<div>\n",
       "<style scoped>\n",
       "    .dataframe tbody tr th:only-of-type {\n",
       "        vertical-align: middle;\n",
       "    }\n",
       "\n",
       "    .dataframe tbody tr th {\n",
       "        vertical-align: top;\n",
       "    }\n",
       "\n",
       "    .dataframe thead th {\n",
       "        text-align: right;\n",
       "    }\n",
       "</style>\n",
       "<table border=\"1\" class=\"dataframe\">\n",
       "  <thead>\n",
       "    <tr style=\"text-align: right;\">\n",
       "      <th></th>\n",
       "      <th>network</th>\n",
       "      <th>block</th>\n",
       "      <th>test_accuracy</th>\n",
       "    </tr>\n",
       "  </thead>\n",
       "  <tbody>\n",
       "    <tr>\n",
       "      <th>0</th>\n",
       "      <td>baseB</td>\n",
       "      <td>0</td>\n",
       "      <td>0.9089</td>\n",
       "    </tr>\n",
       "    <tr>\n",
       "      <th>1</th>\n",
       "      <td>baseB+</td>\n",
       "      <td>0</td>\n",
       "      <td>0.9212</td>\n",
       "    </tr>\n",
       "    <tr>\n",
       "      <th>2</th>\n",
       "      <td>BnB</td>\n",
       "      <td>1</td>\n",
       "      <td>0.9138</td>\n",
       "    </tr>\n",
       "    <tr>\n",
       "      <th>3</th>\n",
       "      <td>BnB</td>\n",
       "      <td>2</td>\n",
       "      <td>0.9231</td>\n",
       "    </tr>\n",
       "    <tr>\n",
       "      <th>4</th>\n",
       "      <td>BnB</td>\n",
       "      <td>3</td>\n",
       "      <td>0.9207</td>\n",
       "    </tr>\n",
       "  </tbody>\n",
       "</table>\n",
       "</div>"
      ],
      "text/plain": [
       "  network  block  test_accuracy\n",
       "0   baseB      0         0.9089\n",
       "1  baseB+      0         0.9212\n",
       "2     BnB      1         0.9138\n",
       "3     BnB      2         0.9231\n",
       "4     BnB      3         0.9207"
      ]
     },
     "execution_count": 2,
     "metadata": {},
     "output_type": "execute_result"
    }
   ],
   "source": [
    "data = pd.read_csv('all_experiments.csv')\n",
    "data.head()"
   ]
  },
  {
   "cell_type": "code",
   "execution_count": 3,
   "metadata": {},
   "outputs": [],
   "source": [
    "lst_models = list(data.network.unique())"
   ]
  },
  {
   "cell_type": "code",
   "execution_count": 4,
   "metadata": {},
   "outputs": [],
   "source": [
    "xrange = np.arange(0, 14)"
   ]
  },
  {
   "cell_type": "code",
   "execution_count": 39,
   "metadata": {},
   "outputs": [
    {
     "data": {
      "text/plain": [
       "<Figure size 432x288 with 0 Axes>"
      ]
     },
     "metadata": {},
     "output_type": "display_data"
    },
    {
     "data": {
      "image/png": "[encoded data removed]",
      "text/plain": [
       "<Figure size 720x360 with 1 Axes>"
      ]
     },
     "metadata": {},
     "output_type": "display_data"
    }
   ],
   "source": [
    "markersize = 8\n",
    "linestyle = '-'\n",
    "edge = 'black'\n",
    "plt.clf()\n",
    "plt.figure(figsize=(10,5))\n",
    "plt.plot(data[data.network=='baseB']['block'], data[data.network=='baseB']['test_accuracy'], \n",
    "         marker='o', \n",
    "         color='white', \n",
    "         markeredgecolor=edge, \n",
    "         markersize=markersize, \n",
    "         linestyle=linestyle)\n",
    "plt.plot(data[data.network=='baseB+']['block'], data[data.network=='baseB+']['test_accuracy'],\n",
    "         marker='o', \n",
    "         color='red', \n",
    "         markeredgecolor=edge, \n",
    "         markersize=markersize, \n",
    "         linestyle=linestyle)\n",
    "plt.plot(data[data.network=='BnB']['block'], data[data.network=='BnB']['test_accuracy'], \n",
    "         marker='^', \n",
    "         color='green', \n",
    "         markeredgecolor=edge, \n",
    "         markersize=markersize, \n",
    "         linestyle=linestyle)\n",
    "plt.plot(data[data.network=='AnB']['block'], data[data.network=='AnB']['test_accuracy'], \n",
    "         marker='s', \n",
    "         color='blue', \n",
    "         markeredgecolor=edge, \n",
    "         markersize=markersize, \n",
    "         linestyle=linestyle)\n",
    "plt.plot(data[data.network=='AnB+']['block'], data[data.network=='AnB+']['test_accuracy'], \n",
    "         marker='D', \n",
    "         color='orange', \n",
    "         markeredgecolor=edge, \n",
    "         markersize=markersize, \n",
    "         linestyle=linestyle)\n",
    "plt.title('Transferability analysis per block') \n",
    "plt.xlabel('Block n at which network is chopped and retrained') \n",
    "plt.ylabel('Test accuracy') \n",
    "plt.xticks(xrange)\n",
    "plt.legend(list(data.network.unique()), loc='best') \n",
    "plt.rcParams.update({'font.size': 11})\n",
    "plt.show() "
   ]
  }
 ],
 "metadata": {
  "kernelspec": {
   "display_name": "Python 3.5",
   "language": "python",
   "name": "python3.5"
  },
  "language_info": {
   "codemirror_mode": {
    "name": "ipython",
    "version": 3
   },
   "file_extension": ".py",
   "mimetype": "text/x-python",
   "name": "python",
   "nbconvert_exporter": "python",
   "pygments_lexer": "ipython3",
   "version": "3.5.3"
  }
 },
 "nbformat": 4,
 "nbformat_minor": 2
}
